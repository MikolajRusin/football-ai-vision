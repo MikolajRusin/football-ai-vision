{
 "cells": [
  {
   "cell_type": "markdown",
   "metadata": {},
   "source": [
    "# This notebook is responsible for downloading and preparing datasets from various source. "
   ]
  },
  {
   "cell_type": "markdown",
   "metadata": {},
   "source": [
    "---> 5 videos from google drive (which will be split into frames)  \n",
    "---> dataset from roboflow\n"
   ]
  },
  {
   "cell_type": "markdown",
   "metadata": {},
   "source": [
    "## Define path of the project and the paths where the train/valid sets will be stored"
   ]
  },
  {
   "cell_type": "code",
   "execution_count": 22,
   "metadata": {},
   "outputs": [
    {
     "name": "stdout",
     "output_type": "stream",
     "text": [
      "Project path -> C:\\Users\\miki0\\OneDrive\\Pulpit\\Projects\\my_projects\\FootballAI\n",
      "Data Dir path -> C:\\Users\\miki0\\OneDrive\\Pulpit\\Projects\\my_projects\\FootballAI\\data\n",
      "Train Dir path -> C:\\Users\\miki0\\OneDrive\\Pulpit\\Projects\\my_projects\\FootballAI\\data\\train\n",
      "Valid Dir path -> C:\\Users\\miki0\\OneDrive\\Pulpit\\Projects\\my_projects\\FootballAI\\data\\valid\n"
     ]
    }
   ],
   "source": [
    "from pathlib import Path\n",
    "import os\n",
    "\n",
    "# Path of the project\n",
    "PROJECT_PATH = Path(os.getcwd()).resolve().parent\n",
    "\n",
    "# Make the data dir\n",
    "DATA_PATH = PROJECT_PATH / 'data'\n",
    "os.makedirs(DATA_PATH, exist_ok=True)\n",
    "\n",
    "# Make the train dir\n",
    "TRAIN_PATH = DATA_PATH / 'train'\n",
    "os.makedirs(TRAIN_PATH, exist_ok=True)\n",
    "\n",
    "# Make the valid dir\n",
    "VALID_PATH = DATA_PATH / 'valid'\n",
    "os.makedirs(VALID_PATH, exist_ok=True)\n",
    "\n",
    "print(f'Project path -> {PROJECT_PATH}')\n",
    "print(f'Data Dir path -> {DATA_PATH}')\n",
    "print(f'Train Dir path -> {TRAIN_PATH}')\n",
    "print(f'Valid Dir path -> {VALID_PATH}')"
   ]
  },
  {
   "cell_type": "markdown",
   "metadata": {},
   "source": [
    "## Downlaod videos from google drive"
   ]
  },
  {
   "cell_type": "code",
   "execution_count": null,
   "metadata": {},
   "outputs": [],
   "source": []
  },
  {
   "cell_type": "code",
   "execution_count": null,
   "metadata": {},
   "outputs": [],
   "source": []
  }
 ],
 "metadata": {
  "kernelspec": {
   "display_name": "myenv",
   "language": "python",
   "name": "python3"
  },
  "language_info": {
   "codemirror_mode": {
    "name": "ipython",
    "version": 3
   },
   "file_extension": ".py",
   "mimetype": "text/x-python",
   "name": "python",
   "nbconvert_exporter": "python",
   "pygments_lexer": "ipython3",
   "version": "3.10.9"
  }
 },
 "nbformat": 4,
 "nbformat_minor": 2
}
